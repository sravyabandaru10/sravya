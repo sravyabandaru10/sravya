{
  "nbformat": 4,
  "nbformat_minor": 0,
  "metadata": {
    "colab": {
      "provenance": [],
      "toc_visible": true,
      "authorship_tag": "ABX9TyPzmsVUCes/CKO6ouNST8mg",
      "include_colab_link": true
    },
    "kernelspec": {
      "name": "python3",
      "display_name": "Python 3"
    },
    "language_info": {
      "name": "python"
    }
  },
  "cells": [
    {
      "cell_type": "markdown",
      "metadata": {
        "id": "view-in-github",
        "colab_type": "text"
      },
      "source": [
        "<a href=\"https://colab.research.google.com/github/sravyabandaru10/sravya/blob/main/exp3.ipynb\" target=\"_parent\"><img src=\"https://colab.research.google.com/assets/colab-badge.svg\" alt=\"Open In Colab\"/></a>"
      ]
    },
    {
      "cell_type": "code",
      "execution_count": 3,
      "metadata": {
        "colab": {
          "base_uri": "https://localhost:8080/"
        },
        "id": "iEAqt00jMDjg",
        "outputId": "3733cfba-dd3c-48ba-f132-c7821acd8a3a"
      },
      "outputs": [
        {
          "output_type": "stream",
          "name": "stdout",
          "text": [
            "pearson's correlation coefficient: 0.9999999999999998\n"
          ]
        }
      ],
      "source": [
        "import numpy as np\n",
        "def pearson_correlation(x,y):\n",
        "  mean_x = np.mean(x)\n",
        "  mean_y = np.mean(y)\n",
        "  covariance = np.sum((x-mean_x)*(y-mean_y))\n",
        "  std_dev_x = np.sqrt(np.sum((x-mean_x)**2))\n",
        "  std_dev_y = np.sqrt(np.sum((y-mean_y)**2))\n",
        "  correlation = covariance / (std_dev_x * std_dev_y)\n",
        "  return correlation\n",
        "x=np.array([1,2,3,4,5])\n",
        "y=np.array([2,3,4,5,6,])\n",
        "print(\"pearson's correlation coefficient:\",pearson_correlation(x,y))"
      ]
    },
    {
      "cell_type": "code",
      "source": [
        "from sklearn.metrics.pairwise import cosine_similarity\n",
        "vector1 =np.array([1,2,3])\n",
        "vector2 =np.array([4,5,6])\n",
        "cosine_sim =cosine_similarity(vector1.reshape(1,-1),vector2.reshape(1,-1))\n",
        "print(\"cosine similarity:\" ,cosine_sim[0][0])"
      ],
      "metadata": {
        "colab": {
          "base_uri": "https://localhost:8080/"
        },
        "id": "QcIHp37bOrbl",
        "outputId": "f8ed1fd5-c0ac-4da8-da52-cf1a6d9d9b83"
      },
      "execution_count": 4,
      "outputs": [
        {
          "output_type": "stream",
          "name": "stdout",
          "text": [
            "cosine similarity: 0.9746318461970762\n"
          ]
        }
      ]
    },
    {
      "cell_type": "code",
      "source": [
        "def jaccard_similarity(set1,set2):\n",
        "  intersection = len(set1.intersection(set2))\n",
        "  union =len(set1.union(set2))\n",
        "  return intersection /union\n",
        "set1=set([1,2,3])\n",
        "set2=set([2,3,4])\n",
        "print(\"jaccard similarity:\",jaccard_similarity(set1,set2))"
      ],
      "metadata": {
        "colab": {
          "base_uri": "https://localhost:8080/"
        },
        "id": "o7P_Q602Pjuk",
        "outputId": "fc7a5fc4-ea63-494e-de83-73405e55df34"
      },
      "execution_count": 8,
      "outputs": [
        {
          "output_type": "stream",
          "name": "stdout",
          "text": [
            "jaccard similarity: 0.5\n"
          ]
        }
      ]
    },
    {
      "cell_type": "code",
      "source": [
        "def manhattan_distance(x,y):\n",
        "  return np.sum(np.abs(x-y))\n",
        "point1=np.array([1,2,3])\n",
        "point2=np.array([4,5,6])\n",
        "print(\"manhattan distance:\",manhattan_distance(point1,point2))"
      ],
      "metadata": {
        "colab": {
          "base_uri": "https://localhost:8080/"
        },
        "id": "7DY4nrZxQtS8",
        "outputId": "35e9fe6c-57e4-4313-c4f2-30094167812d"
      },
      "execution_count": 11,
      "outputs": [
        {
          "output_type": "stream",
          "name": "stdout",
          "text": [
            "manhattan distance: 9\n"
          ]
        }
      ]
    }
  ]
}